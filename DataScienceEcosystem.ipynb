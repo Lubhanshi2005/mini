{
  "metadata": {
    "kernelspec": {
      "name": "python",
      "display_name": "Python (Pyodide)",
      "language": "python"
    },
    "language_info": {
      "codemirror_mode": {
        "name": "python",
        "version": 3
      },
      "file_extension": ".py",
      "mimetype": "text/x-python",
      "name": "python",
      "nbconvert_exporter": "python",
      "pygments_lexer": "ipython3",
      "version": "3.8"
    }
  },
  "nbformat_minor": 4,
  "nbformat": 4,
  "cells": [
    {
      "cell_type": "markdown",
      "source": "# Data Science tools and  Ecosystem ",
      "metadata": {
        "tags": [],
        "editable": true,
        "slideshow": {
          "slide_type": ""
        }
      }
    },
    {
      "cell_type": "markdown",
      "source": "In this notebook,data science tools and ecosystem are summarized",
      "metadata": {}
    },
    {
      "cell_type": "markdown",
      "source": "Some of the languages data scientists use are:\n1. Python \n2. R \n3. SQL\n4. C++\n5. Java etc",
      "metadata": {}
    },
    {
      "cell_type": "markdown",
      "source": "Some of the commonly use libraries used by data scientists include:\n1. Tensorflow\n2. NumPy\n3. SciPy\n4. Pandas\n5. Keras\n6. PyTorch etc",
      "metadata": {}
    },
    {
      "cell_type": "markdown",
      "source": "|Data Science Tools|\n|-------|\n| SAS |\n|Apache Hadoop|\n|TensorFlow|\n",
      "metadata": {}
    },
    {
      "cell_type": "markdown",
      "source": "# Below are the some examples of arithmetic expressions in python ",
      "metadata": {}
    },
    {
      "cell_type": "code",
      "source": "#this is a common  arithmetic example to multiply and  then add integers\n(3*4)+5 ",
      "metadata": {
        "trusted": true
      },
      "outputs": [
        {
          "execution_count": 3,
          "output_type": "execute_result",
          "data": {
            "text/plain": "17"
          },
          "metadata": {}
        }
      ],
      "execution_count": 3
    },
    {
      "cell_type": "code",
      "source": "#This will convert 200 minutes to hours by dividing by 60 \n200/60",
      "metadata": {
        "trusted": true
      },
      "outputs": [
        {
          "execution_count": 4,
          "output_type": "execute_result",
          "data": {
            "text/plain": "3.3333333333333335"
          },
          "metadata": {}
        }
      ],
      "execution_count": 4
    },
    {
      "cell_type": "markdown",
      "source": "# objective\n1. List popular languages for data science\n2. List popular libraries for data science\n3. List of well known data science tools\n4. How to provide comments in the cell",
      "metadata": {}
    },
    {
      "cell_type": "markdown",
      "source": "# Author\nLubhanshi Mathur ",
      "metadata": {}
    }
  ]
}